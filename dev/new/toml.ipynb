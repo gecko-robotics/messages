{
 "cells": [
  {
   "cell_type": "markdown",
   "id": "5b42f1a1-6f68-4a24-9ab4-9ffefa2ab9ef",
   "metadata": {},
   "source": [
    "# TOML Message Parser\n",
    "\n",
    "```python\n",
    "load(fp: 'BinaryIO', /, *, parse_float: 'ParseFloat' = <class 'float'>) -> 'dict[str, Any]'\n",
    "    Parse TOML from a binary file object.\n",
    "    \n",
    "loads(s: 'str', /, *, parse_float: 'ParseFloat' = <class 'float'>) -> 'dict[str, Any]'\n",
    "    Parse TOML from a string.\n",
    "```"
   ]
  },
  {
   "cell_type": "code",
   "execution_count": 1,
   "id": "8431e728-43e3-46a2-9608-08254e870a6f",
   "metadata": {},
   "outputs": [],
   "source": [
    "# reload library\n",
    "%load_ext autoreload\n",
    "%autoreload 2"
   ]
  },
  {
   "cell_type": "code",
   "execution_count": 14,
   "id": "fa7ed475-f03c-4ad3-85bb-1970edb1822c",
   "metadata": {},
   "outputs": [],
   "source": [
    "from generator.utils import *\n",
    "from generator.c_generator import *\n",
    "from generator.py_generator import *"
   ]
  },
  {
   "cell_type": "code",
   "execution_count": 15,
   "id": "20dcfc66-615d-4f1d-8ac0-20476e763e22",
   "metadata": {},
   "outputs": [],
   "source": [
    "from pygments import highlight\n",
    "from pygments.lexers import PythonLexer, CppLexer\n",
    "from pygments.formatters import HtmlFormatter\n",
    "from IPython.display import HTML, display"
   ]
  },
  {
   "cell_type": "code",
   "execution_count": 109,
   "id": "9faf22a5-ef3e-498a-a31b-fc883d320da4",
   "metadata": {},
   "outputs": [
    {
     "name": "stdout",
     "output_type": "stream",
     "text": [
      "{'file': PosixPath('messages/global.toml'),\n",
      " 'functions': {'c': 'inline\\n'\n",
      "                    'float magnitude(const vec_t& v) {\\n'\n",
      "                    '    // test 1\\n'\n",
      "                    '    return sqrt(v.x*v.x + v.y*v.y + v.z*v.z);\\n'\n",
      "                    '}\\n'\n",
      "                    '\\n'\n",
      "                    'inline\\n'\n",
      "                    'vec_t normalize(const vec_t& v) {\\n'\n",
      "                    '    // test 2\\n'\n",
      "                    '    float tmp = 3-4;\\n'\n",
      "                    '    float mag = magnitude(v);\\n'\n",
      "                    '    return vec_t(v.x/mag, v.y/mag, v.z/mag);\\n'\n",
      "                    '}\\n',\n",
      "               'python': 'def magnitude(a):\\n'\n",
      "                         '    return a\\n'\n",
      "                         '\\n'\n",
      "                         'def normalize(a):\\n'\n",
      "                         '    # this is a test\\n'\n",
      "                         '    return a\\n'},\n",
      " 'ids': {'calibration_t': 20,\n",
      "         'imu_t': 10,\n",
      "         'pose_t': 5,\n",
      "         'quat_t': 2,\n",
      "         'twist_t': 3,\n",
      "         'vec_t': 1,\n",
      "         'wrench_t': 4},\n",
      " 'license': 'Copyright 1997 bad bart\\n'\n",
      "            '\\n'\n",
      "            'Permission is hereby granted, free of charge, to any person '\n",
      "            'obtaining a copy of this software and associated documentation '\n",
      "            'files (the “Software”), to deal in the Software without '\n",
      "            'restriction, including without limitation the rights to use, '\n",
      "            'copy, modify, merge, publish, distribute, sublicense, and/or sell '\n",
      "            'copies of the Software, and to permit persons to whom the '\n",
      "            'Software is furnished to do so, subject to the following '\n",
      "            'conditions:\\n'\n",
      "            '\\n'\n",
      "            'The above copyright notice and this permission notice shall be '\n",
      "            'included in all copies or substantial portions of the Software.\\n'\n",
      "            '\\n'\n",
      "            'THE SOFTWARE IS PROVIDED “AS IS”, WITHOUT WARRANTY OF ANY KIND, '\n",
      "            'EXPRESS OR IMPLIED, INCLUDING BUT NOT LIMITED TO THE WARRANTIES '\n",
      "            'OF MERCHANTABILITY, FITNESS FOR A PARTICULAR PURPOSE AND '\n",
      "            'NONINFRINGEMENT. IN NO EVENT SHALL THE AUTHORS OR COPYRIGHT '\n",
      "            'HOLDERS BE LIABLE FOR ANY CLAIM, DAMAGES OR OTHER LIABILITY, '\n",
      "            'WHETHER IN AN ACTION OF CONTRACT, TORT OR OTHERWISE, ARISING '\n",
      "            'FROM, OUT OF OR IN CONNECTION WITH THE SOFTWARE OR THE USE OR '\n",
      "            'OTHER DEALINGS IN THE SOFTWARE.\\n',\n",
      " 'message': {'name': 'vec_t',\n",
      "             'vars': [Var(type='float', var='x', value=0.0, array_size=0),\n",
      "                      Var(type='float', var='y', value=0.0, array_size=0),\n",
      "                      Var(type='float', var='z', value=0.0, array_size=0)]},\n",
      " 'namespace': 'msgs',\n",
      " 'serialize': {'mavlink': False, 'yivo': True}}\n"
     ]
    }
   ],
   "source": [
    "file = \"messages/vec_t.toml\"\n",
    "# file = \"messages/imu_t.toml\"\n",
    "# file = \"messages/wrench_t.toml\"\n",
    "# file = \"messages/quat_t.toml\"\n",
    "# file = \"messages/twist_t.toml\"\n",
    "# file = \"messages/pose_t.toml\"\n",
    "# file = \"messages/global.toml\"\n",
    "# file = \"messages/calibration_t.toml\"\n",
    "\n",
    "data = read_toml(file)\n",
    "gData = read_toml(\"messages/global.toml\")\n",
    "data = data | gData\n",
    "pprint(data)"
   ]
  },
  {
   "cell_type": "markdown",
   "id": "76594ff1-4dbf-4d5f-a291-426676bdfaf1",
   "metadata": {},
   "source": [
    "# C"
   ]
  },
  {
   "cell_type": "code",
   "execution_count": 110,
   "id": "ac0b9af6-962b-4432-a88a-6979310edd1b",
   "metadata": {},
   "outputs": [
    {
     "data": {
      "text/html": [
       "<div class=\"highlight\"><pre><span></span><span class=\"c1\">//// Do not edit, this is autogenerated ////</span>\n",
       "<span class=\"c1\">// </span>\n",
       "<span class=\"c1\">// Copyright 1997 bad bart</span>\n",
       "\n",
       "<span class=\"c1\">// Permission is hereby granted, free of charge, to any person obtaining a</span>\n",
       "<span class=\"c1\">// copy of this software and associated documentation files (the “Software”),</span>\n",
       "<span class=\"c1\">// to deal in the Software without restriction, including without limitation</span>\n",
       "<span class=\"c1\">// the rights to use, copy, modify, merge, publish, distribute, sublicense,</span>\n",
       "<span class=\"c1\">// and/or sell copies of the Software, and to permit persons to whom the</span>\n",
       "<span class=\"c1\">// Software is furnished to do so, subject to the following conditions:</span>\n",
       "\n",
       "<span class=\"c1\">// The above copyright notice and this permission notice shall be included in</span>\n",
       "<span class=\"c1\">// all copies or substantial portions of the Software.</span>\n",
       "\n",
       "<span class=\"c1\">// THE SOFTWARE IS PROVIDED “AS IS”, WITHOUT WARRANTY OF ANY KIND, EXPRESS OR</span>\n",
       "<span class=\"c1\">// IMPLIED, INCLUDING BUT NOT LIMITED TO THE WARRANTIES OF MERCHANTABILITY,</span>\n",
       "<span class=\"c1\">// FITNESS FOR A PARTICULAR PURPOSE AND NONINFRINGEMENT. IN NO EVENT SHALL THE</span>\n",
       "<span class=\"c1\">// AUTHORS OR COPYRIGHT HOLDERS BE LIABLE FOR ANY CLAIM, DAMAGES OR OTHER</span>\n",
       "<span class=\"c1\">// LIABILITY, WHETHER IN AN ACTION OF CONTRACT, TORT OR OTHERWISE, ARISING</span>\n",
       "<span class=\"c1\">// FROM, OUT OF OR IN CONNECTION WITH THE SOFTWARE OR THE USE OR OTHER</span>\n",
       "<span class=\"c1\">// DEALINGS IN THE SOFTWARE.</span>\n",
       "<span class=\"c1\">///////////////////////////////////////////////////////////</span>\n",
       "<span class=\"cp\">#pragma once</span>\n",
       "\n",
       "\n",
       "<span class=\"cp\">#include</span><span class=\"w\"> </span><span class=\"cpf\">&lt;cstdint&gt;</span>\n",
       "\n",
       "<span class=\"k\">namespace</span><span class=\"w\"> </span><span class=\"nn\">msgs</span><span class=\"w\"> </span><span class=\"p\">{</span>\n",
       "\n",
       "<span class=\"k\">constexpr</span><span class=\"w\"> </span><span class=\"kt\">uint8_t</span><span class=\"w\"> </span><span class=\"n\">MSG_SIZE_VEC_T</span><span class=\"w\"> </span><span class=\"o\">=</span><span class=\"w\"> </span><span class=\"mi\">12</span><span class=\"p\">;</span>\n",
       "<span class=\"k\">constexpr</span><span class=\"w\"> </span><span class=\"kt\">uint8_t</span><span class=\"w\"> </span><span class=\"n\">MSG_ID_VEC_T</span><span class=\"w\"> </span><span class=\"o\">=</span><span class=\"w\"> </span><span class=\"mi\">1</span><span class=\"p\">;</span>\n",
       "\n",
       "\n",
       "<span class=\"k\">struct</span><span class=\"w\"> </span><span class=\"nc\">__attribute__</span><span class=\"p\">((</span><span class=\"n\">packed</span><span class=\"p\">))</span><span class=\"w\"> </span><span class=\"n\">vec_t</span><span class=\"w\"> </span><span class=\"p\">{</span>\n",
       "\n",
       "<span class=\"w\">  </span><span class=\"kt\">float</span><span class=\"w\"> </span><span class=\"n\">x</span><span class=\"w\"> </span><span class=\"o\">=</span><span class=\"w\"> </span><span class=\"mf\">0.0</span><span class=\"p\">;</span>\n",
       "<span class=\"w\">  </span><span class=\"kt\">float</span><span class=\"w\"> </span><span class=\"n\">y</span><span class=\"w\"> </span><span class=\"o\">=</span><span class=\"w\"> </span><span class=\"mf\">0.0</span><span class=\"p\">;</span>\n",
       "<span class=\"w\">  </span><span class=\"kt\">float</span><span class=\"w\"> </span><span class=\"n\">z</span><span class=\"w\"> </span><span class=\"o\">=</span><span class=\"w\"> </span><span class=\"mf\">0.0</span><span class=\"p\">;</span>\n",
       "<span class=\"p\">};</span>\n",
       "\n",
       "\n",
       "<span class=\"kr\">inline</span>\n",
       "<span class=\"kt\">float</span><span class=\"w\"> </span><span class=\"nf\">magnitude</span><span class=\"p\">(</span><span class=\"k\">const</span><span class=\"w\"> </span><span class=\"n\">vec_t</span><span class=\"o\">&amp;</span><span class=\"w\"> </span><span class=\"n\">v</span><span class=\"p\">)</span><span class=\"w\"> </span><span class=\"p\">{</span>\n",
       "<span class=\"w\">    </span><span class=\"c1\">// test 1</span>\n",
       "<span class=\"w\">    </span><span class=\"k\">return</span><span class=\"w\"> </span><span class=\"n\">sqrt</span><span class=\"p\">(</span><span class=\"n\">v</span><span class=\"p\">.</span><span class=\"n\">x</span><span class=\"o\">*</span><span class=\"n\">v</span><span class=\"p\">.</span><span class=\"n\">x</span><span class=\"w\"> </span><span class=\"o\">+</span><span class=\"w\"> </span><span class=\"n\">v</span><span class=\"p\">.</span><span class=\"n\">y</span><span class=\"o\">*</span><span class=\"n\">v</span><span class=\"p\">.</span><span class=\"n\">y</span><span class=\"w\"> </span><span class=\"o\">+</span><span class=\"w\"> </span><span class=\"n\">v</span><span class=\"p\">.</span><span class=\"n\">z</span><span class=\"o\">*</span><span class=\"n\">v</span><span class=\"p\">.</span><span class=\"n\">z</span><span class=\"p\">);</span>\n",
       "<span class=\"p\">}</span>\n",
       "\n",
       "<span class=\"kr\">inline</span>\n",
       "<span class=\"n\">vec_t</span><span class=\"w\"> </span><span class=\"nf\">normalize</span><span class=\"p\">(</span><span class=\"k\">const</span><span class=\"w\"> </span><span class=\"n\">vec_t</span><span class=\"o\">&amp;</span><span class=\"w\"> </span><span class=\"n\">v</span><span class=\"p\">)</span><span class=\"w\"> </span><span class=\"p\">{</span>\n",
       "<span class=\"w\">    </span><span class=\"c1\">// test 2</span>\n",
       "<span class=\"w\">    </span><span class=\"kt\">float</span><span class=\"w\"> </span><span class=\"n\">tmp</span><span class=\"w\"> </span><span class=\"o\">=</span><span class=\"w\"> </span><span class=\"mi\">3-4</span><span class=\"p\">;</span>\n",
       "<span class=\"w\">    </span><span class=\"kt\">float</span><span class=\"w\"> </span><span class=\"n\">mag</span><span class=\"w\"> </span><span class=\"o\">=</span><span class=\"w\"> </span><span class=\"n\">magnitude</span><span class=\"p\">(</span><span class=\"n\">v</span><span class=\"p\">);</span>\n",
       "<span class=\"w\">    </span><span class=\"k\">return</span><span class=\"w\"> </span><span class=\"n\">vec_t</span><span class=\"p\">(</span><span class=\"n\">v</span><span class=\"p\">.</span><span class=\"n\">x</span><span class=\"o\">/</span><span class=\"n\">mag</span><span class=\"p\">,</span><span class=\"w\"> </span><span class=\"n\">v</span><span class=\"p\">.</span><span class=\"n\">y</span><span class=\"o\">/</span><span class=\"n\">mag</span><span class=\"p\">,</span><span class=\"w\"> </span><span class=\"n\">v</span><span class=\"p\">.</span><span class=\"n\">z</span><span class=\"o\">/</span><span class=\"n\">mag</span><span class=\"p\">);</span>\n",
       "<span class=\"p\">}</span>\n",
       "\n",
       "\n",
       "<span class=\"kr\">inline</span>\n",
       "<span class=\"n\">message_t</span><span class=\"w\"> </span><span class=\"nf\">yivo_pack</span><span class=\"p\">(</span><span class=\"k\">const</span><span class=\"w\"> </span><span class=\"n\">vec_t</span><span class=\"o\">&amp;</span><span class=\"w\"> </span><span class=\"n\">msg</span><span class=\"p\">)</span><span class=\"w\"> </span><span class=\"p\">{</span>\n",
       "<span class=\"w\">  </span><span class=\"n\">message_t</span><span class=\"w\"> </span><span class=\"n\">msg</span><span class=\"w\"> </span><span class=\"o\">=</span><span class=\"w\"> </span><span class=\"n\">yivo</span><span class=\"p\">.</span><span class=\"n\">pack</span><span class=\"p\">(,</span><span class=\"w\"> </span><span class=\"p\">(</span><span class=\"kt\">uint8_t</span><span class=\"o\">*</span><span class=\"p\">)</span><span class=\"o\">&amp;</span><span class=\"n\">msg</span><span class=\"p\">,</span><span class=\"w\"> </span><span class=\"p\">);</span>\n",
       "<span class=\"w\">  </span><span class=\"k\">return</span><span class=\"w\"> </span><span class=\"n\">msg</span><span class=\"p\">;</span>\n",
       "<span class=\"p\">}</span>\n",
       "\n",
       "\n",
       "\n",
       "<span class=\"p\">}</span><span class=\"w\"> </span><span class=\"c1\">// end namespace msgs</span>\n",
       "</pre></div>\n"
      ],
      "text/plain": [
       "<IPython.core.display.HTML object>"
      ]
     },
     "metadata": {},
     "output_type": "display_data"
    }
   ],
   "source": [
    "content = create_c_header(data,'./templates')\n",
    "# print(content)\n",
    "display(HTML(highlight(content, CppLexer(), HtmlFormatter())))\n",
    "\n",
    "# filename = info[\"name\"] + \".hpp\"\n",
    "# filename = Path(out_path)/filename\n",
    "# write_file(filename, content)"
   ]
  },
  {
   "cell_type": "markdown",
   "id": "01f31090-fc9a-4b7e-89a6-fe95552545b8",
   "metadata": {},
   "source": [
    "# Python"
   ]
  },
  {
   "cell_type": "code",
   "execution_count": 108,
   "id": "317da6f2-c91f-46e8-8538-e95222974bb7",
   "metadata": {},
   "outputs": [
    {
     "data": {
      "text/html": [
       "<div class=\"highlight\"><pre><span></span><span class=\"c1\"># Do not edit, this is autogenerated</span>\n",
       "<span class=\"c1\">#</span>\n",
       "<span class=\"c1\"># Copyright 1997 bad bart</span>\n",
       "\n",
       "<span class=\"c1\"># Permission is hereby granted, free of charge, to any person obtaining a copy</span>\n",
       "<span class=\"c1\"># of this software and associated documentation files (the “Software”), to</span>\n",
       "<span class=\"c1\"># deal in the Software without restriction, including without limitation the</span>\n",
       "<span class=\"c1\"># rights to use, copy, modify, merge, publish, distribute, sublicense, and/or</span>\n",
       "<span class=\"c1\"># sell copies of the Software, and to permit persons to whom the Software is</span>\n",
       "<span class=\"c1\"># furnished to do so, subject to the following conditions:</span>\n",
       "\n",
       "<span class=\"c1\"># The above copyright notice and this permission notice shall be included in</span>\n",
       "<span class=\"c1\"># all copies or substantial portions of the Software.</span>\n",
       "\n",
       "<span class=\"c1\"># THE SOFTWARE IS PROVIDED “AS IS”, WITHOUT WARRANTY OF ANY KIND, EXPRESS OR</span>\n",
       "<span class=\"c1\"># IMPLIED, INCLUDING BUT NOT LIMITED TO THE WARRANTIES OF MERCHANTABILITY,</span>\n",
       "<span class=\"c1\"># FITNESS FOR A PARTICULAR PURPOSE AND NONINFRINGEMENT. IN NO EVENT SHALL THE</span>\n",
       "<span class=\"c1\"># AUTHORS OR COPYRIGHT HOLDERS BE LIABLE FOR ANY CLAIM, DAMAGES OR OTHER</span>\n",
       "<span class=\"c1\"># LIABILITY, WHETHER IN AN ACTION OF CONTRACT, TORT OR OTHERWISE, ARISING</span>\n",
       "<span class=\"c1\"># FROM, OUT OF OR IN CONNECTION WITH THE SOFTWARE OR THE USE OR OTHER DEALINGS</span>\n",
       "<span class=\"c1\"># IN THE SOFTWARE.</span>\n",
       "<span class=\"c1\">###############################################################################</span>\n",
       "<span class=\"kn\">from</span> <span class=\"nn\">dataclasses</span> <span class=\"kn\">import</span> <span class=\"n\">dataclass</span>\n",
       "<span class=\"kn\">from</span> <span class=\"nn\">.base</span> <span class=\"kn\">import</span> <span class=\"n\">Base</span>\n",
       "<span class=\"kn\">from</span> <span class=\"nn\">enum</span> <span class=\"kn\">import</span> <span class=\"n\">IntEnum</span>\n",
       "<span class=\"k\">class</span> <span class=\"nc\">SENSOR</span><span class=\"p\">(</span><span class=\"n\">IntEnum</span><span class=\"p\">):</span>\n",
       "    <span class=\"n\">unknown</span> <span class=\"o\">=</span> <span class=\"mi\">0</span>\n",
       "    <span class=\"n\">accels</span> <span class=\"o\">=</span> <span class=\"mi\">1</span>\n",
       "    <span class=\"n\">gyros</span> <span class=\"o\">=</span> <span class=\"mi\">2</span>\n",
       "    <span class=\"n\">mags</span> <span class=\"o\">=</span> <span class=\"mi\">3</span>\n",
       "\n",
       "\n",
       "\n",
       "\n",
       "<span class=\"nd\">@dataclass</span><span class=\"p\">(</span><span class=\"n\">frozen</span><span class=\"o\">=</span><span class=\"kc\">True</span><span class=\"p\">)</span>\n",
       "<span class=\"k\">class</span> <span class=\"nc\">calibration_t</span><span class=\"p\">(</span><span class=\"n\">Base</span><span class=\"p\">):</span>\n",
       "    <span class=\"n\">cal</span><span class=\"p\">:</span> <span class=\"nb\">list</span><span class=\"p\">[</span><span class=\"nb\">float</span><span class=\"p\">]</span> <span class=\"o\">=</span> <span class=\"p\">[</span><span class=\"mi\">0</span><span class=\"p\">,</span> <span class=\"mi\">0</span><span class=\"p\">,</span> <span class=\"mi\">0</span><span class=\"p\">,</span> <span class=\"mi\">0</span><span class=\"p\">,</span> <span class=\"mi\">0</span><span class=\"p\">,</span> <span class=\"mi\">0</span><span class=\"p\">,</span> <span class=\"mi\">0</span><span class=\"p\">,</span> <span class=\"mi\">0</span><span class=\"p\">,</span> <span class=\"mi\">0</span><span class=\"p\">,</span> <span class=\"mi\">0</span><span class=\"p\">,</span> <span class=\"mi\">0</span><span class=\"p\">,</span> <span class=\"mi\">0</span><span class=\"p\">]</span>\n",
       "    <span class=\"nb\">type</span><span class=\"p\">:</span> <span class=\"nb\">int</span> <span class=\"o\">=</span> <span class=\"mi\">0</span>\n",
       "\n",
       "    <span class=\"k\">def</span> <span class=\"nf\">__yivo__</span><span class=\"p\">(</span><span class=\"bp\">self</span><span class=\"p\">):</span>\n",
       "        <span class=\"c1\"># (fmt, size, id)</span>\n",
       "        <span class=\"k\">return</span> <span class=\"p\">(</span><span class=\"s2\">&quot;12fB&quot;</span><span class=\"p\">,</span> <span class=\"mi\">49</span><span class=\"p\">,</span> <span class=\"mi\">20</span><span class=\"p\">)</span>\n",
       "</pre></div>\n"
      ],
      "text/plain": [
       "<IPython.core.display.HTML object>"
      ]
     },
     "metadata": {},
     "output_type": "display_data"
    }
   ],
   "source": [
    "content = create_python(data,'./templates')\n",
    "# print(content)\n",
    "display(HTML(highlight(content, PythonLexer(), HtmlFormatter())))\n",
    "\n",
    "# filename = info[\"name\"] + \".hpp\"\n",
    "# filename = Path(out_path)/filename\n",
    "# write_file(filename, content)"
   ]
  },
  {
   "cell_type": "code",
   "execution_count": 106,
   "id": "310f5e22-5f4a-4f79-b4d4-9379728ea796",
   "metadata": {},
   "outputs": [
    {
     "data": {
      "text/html": [
       "<div class=\"highlight\"><pre><span></span><span class=\"c1\"># Do not edit, this is autogenerated</span>\n",
       "<span class=\"c1\">#</span>\n",
       "<span class=\"c1\"># Copyright 1997 bad bart</span>\n",
       "\n",
       "<span class=\"c1\"># Permission is hereby granted, free of charge, to any person obtaining a copy</span>\n",
       "<span class=\"c1\"># of this software and associated documentation files (the “Software”), to</span>\n",
       "<span class=\"c1\"># deal in the Software without restriction, including without limitation the</span>\n",
       "<span class=\"c1\"># rights to use, copy, modify, merge, publish, distribute, sublicense, and/or</span>\n",
       "<span class=\"c1\"># sell copies of the Software, and to permit persons to whom the Software is</span>\n",
       "<span class=\"c1\"># furnished to do so, subject to the following conditions:</span>\n",
       "\n",
       "<span class=\"c1\"># The above copyright notice and this permission notice shall be included in</span>\n",
       "<span class=\"c1\"># all copies or substantial portions of the Software.</span>\n",
       "\n",
       "<span class=\"c1\"># THE SOFTWARE IS PROVIDED “AS IS”, WITHOUT WARRANTY OF ANY KIND, EXPRESS OR</span>\n",
       "<span class=\"c1\"># IMPLIED, INCLUDING BUT NOT LIMITED TO THE WARRANTIES OF MERCHANTABILITY,</span>\n",
       "<span class=\"c1\"># FITNESS FOR A PARTICULAR PURPOSE AND NONINFRINGEMENT. IN NO EVENT SHALL THE</span>\n",
       "<span class=\"c1\"># AUTHORS OR COPYRIGHT HOLDERS BE LIABLE FOR ANY CLAIM, DAMAGES OR OTHER</span>\n",
       "<span class=\"c1\"># LIABILITY, WHETHER IN AN ACTION OF CONTRACT, TORT OR OTHERWISE, ARISING</span>\n",
       "<span class=\"c1\"># FROM, OUT OF OR IN CONNECTION WITH THE SOFTWARE OR THE USE OR OTHER DEALINGS</span>\n",
       "<span class=\"c1\"># IN THE SOFTWARE.</span>\n",
       "<span class=\"c1\">###############################################################################</span>\n",
       "<span class=\"kn\">import</span> <span class=\"nn\">dataclasses</span>\n",
       "\n",
       "\n",
       "<span class=\"k\">class</span> <span class=\"nc\">Base</span><span class=\"p\">:</span>\n",
       "    <span class=\"k\">def</span> <span class=\"nf\">flatten</span><span class=\"p\">(</span><span class=\"bp\">self</span><span class=\"p\">,</span> <span class=\"n\">data</span><span class=\"p\">):</span>\n",
       "<span class=\"w\">        </span><span class=\"sd\">&quot;&quot;&quot;</span>\n",
       "<span class=\"sd\">        (0, (1, 2, 3), (4, 5, 6)) -&gt; (0, 1, 2, 3, 4, 5, 6)</span>\n",
       "<span class=\"sd\">        &quot;&quot;&quot;</span>\n",
       "        <span class=\"k\">if</span> <span class=\"nb\">isinstance</span><span class=\"p\">(</span><span class=\"n\">data</span><span class=\"p\">,</span> <span class=\"nb\">tuple</span><span class=\"p\">):</span>\n",
       "            <span class=\"k\">for</span> <span class=\"n\">x</span> <span class=\"ow\">in</span> <span class=\"n\">data</span><span class=\"p\">:</span>\n",
       "                <span class=\"k\">yield from</span> <span class=\"bp\">self</span><span class=\"o\">.</span><span class=\"n\">flatten</span><span class=\"p\">(</span><span class=\"n\">x</span><span class=\"p\">)</span>\n",
       "        <span class=\"k\">else</span><span class=\"p\">:</span>\n",
       "            <span class=\"k\">yield</span> <span class=\"n\">data</span>\n",
       "\n",
       "    <span class=\"k\">def</span> <span class=\"nf\">serialize</span><span class=\"p\">(</span><span class=\"bp\">self</span><span class=\"p\">):</span>\n",
       "        <span class=\"k\">return</span> <span class=\"nb\">tuple</span><span class=\"p\">(</span><span class=\"bp\">self</span><span class=\"o\">.</span><span class=\"n\">flatten</span><span class=\"p\">(</span><span class=\"n\">dataclasses</span><span class=\"o\">.</span><span class=\"n\">astuple</span><span class=\"p\">(</span><span class=\"bp\">self</span><span class=\"p\">)))</span>\n",
       "\n",
       "\n",
       "<span class=\"k\">def</span> <span class=\"nf\">fmt</span><span class=\"p\">(</span><span class=\"n\">a</span><span class=\"p\">):</span>\n",
       "    <span class=\"k\">return</span> <span class=\"n\">a</span><span class=\"o\">.</span><span class=\"n\">__yivo__</span><span class=\"p\">()[</span><span class=\"mi\">0</span><span class=\"p\">]</span>\n",
       "\n",
       "<span class=\"k\">def</span> <span class=\"nf\">sizeof</span><span class=\"p\">(</span><span class=\"n\">a</span><span class=\"p\">):</span>\n",
       "    <span class=\"k\">return</span> <span class=\"n\">a</span><span class=\"o\">.</span><span class=\"n\">__yivo__</span><span class=\"p\">()[</span><span class=\"mi\">1</span><span class=\"p\">]</span>\n",
       "\n",
       "<span class=\"k\">def</span> <span class=\"nf\">cls</span><span class=\"p\">(</span><span class=\"n\">a</span><span class=\"p\">):</span>\n",
       "    <span class=\"k\">return</span> <span class=\"n\">a</span><span class=\"o\">.</span><span class=\"vm\">__class__</span>\n",
       "\n",
       "<span class=\"k\">def</span> <span class=\"nf\">msg_id</span><span class=\"p\">(</span><span class=\"n\">a</span><span class=\"p\">):</span>\n",
       "    <span class=\"k\">return</span> <span class=\"n\">a</span><span class=\"o\">.</span><span class=\"n\">__yivo__</span><span class=\"p\">()[</span><span class=\"mi\">2</span><span class=\"p\">]</span>\n",
       "</pre></div>\n"
      ],
      "text/plain": [
       "<IPython.core.display.HTML object>"
      ]
     },
     "metadata": {},
     "output_type": "display_data"
    }
   ],
   "source": [
    "content = create_python(data,'./templates','base.py.jinja')\n",
    "# print(content)\n",
    "display(HTML(highlight(content, PythonLexer(), HtmlFormatter())))"
   ]
  },
  {
   "cell_type": "code",
   "execution_count": 9,
   "id": "82c0f0be-625c-4cee-a252-c165801f0b38",
   "metadata": {},
   "outputs": [
    {
     "data": {
      "text/plain": [
       "{'uint8': VarInfo(c='uint8_t', py='int', size=1, fmt='B', complex=False),\n",
       " 'uint16': VarInfo(c='uint16_t', py='int', size=2, fmt='H', complex=False),\n",
       " 'uint32': VarInfo(c='uint32_t', py='int', size=4, fmt='I', complex=False),\n",
       " 'uint64': VarInfo(c='uint64_t', py='int', size=8, fmt='Q', complex=False),\n",
       " 'int8': VarInfo(c='int8_t', py='int', size=1, fmt='b', complex=False),\n",
       " 'int16': VarInfo(c='int16_t', py='int', size=2, fmt='h', complex=False),\n",
       " 'int32': VarInfo(c='int32_t', py='int', size=4, fmt='i', complex=False),\n",
       " 'int64': VarInfo(c='int64_t', py='int', size=8, fmt='q', complex=False),\n",
       " 'float': VarInfo(c='float', py='float', size=4, fmt='f', complex=False),\n",
       " 'double': VarInfo(c='double', py='float', size=8, fmt='d', complex=False),\n",
       " 'vec_t': VarInfo(c='vec_t', py='vec_t', size=12, fmt='3f', complex=True),\n",
       " 'quat_t': VarInfo(c='quat_t', py='quat_t', size=16, fmt='4f', complex=True),\n",
       " 'twist_t': VarInfo(c='twist_t', py='twist_t', size=24, fmt='6f', complex=True),\n",
       " 'wrench_t': VarInfo(c='wrench_t', py='wrench_t', size=24, fmt='6f', complex=True),\n",
       " 'pose_t': VarInfo(c='pose_t', py='pose_t', size=28, fmt='7f', complex=True)}"
      ]
     },
     "execution_count": 9,
     "metadata": {},
     "output_type": "execute_result"
    }
   ],
   "source": [
    "var_types"
   ]
  },
  {
   "cell_type": "code",
   "execution_count": 17,
   "id": "6d9afe13-4048-4064-9deb-3d551200ccfd",
   "metadata": {},
   "outputs": [
    {
     "data": {
      "text/plain": [
       "'/Users/kevin/tmp/python/ast'"
      ]
     },
     "execution_count": 17,
     "metadata": {},
     "output_type": "execute_result"
    }
   ],
   "source": [
    "%pwd"
   ]
  },
  {
   "cell_type": "code",
   "execution_count": 22,
   "id": "bde7234f-dd7e-4f9e-a403-62fcf994adbf",
   "metadata": {},
   "outputs": [
    {
     "data": {
      "text/plain": [
       "'<div class=\"highlight\"><pre><span></span><span class=\"o\">////</span> <span class=\"n\">Do</span> <span class=\"ow\">not</span> <span class=\"n\">edit</span><span class=\"p\">,</span> <span class=\"n\">this</span> <span class=\"ow\">is</span> <span class=\"n\">autogenerated</span> <span class=\"o\">////</span>\\n<span class=\"o\">//</span> \\n<span class=\"o\">//</span> <span class=\"n\">Copyright</span> <span class=\"mi\">1997</span> <span class=\"n\">bad</span> <span class=\"n\">bart</span>\\n\\n<span class=\"o\">//</span> <span class=\"n\">Permission</span> <span class=\"ow\">is</span> <span class=\"n\">hereby</span> <span class=\"n\">granted</span><span class=\"p\">,</span> <span class=\"n\">free</span> <span class=\"n\">of</span> <span class=\"n\">charge</span><span class=\"p\">,</span> <span class=\"n\">to</span> <span class=\"nb\">any</span> <span class=\"n\">person</span> <span class=\"n\">obtaining</span> <span class=\"n\">a</span>\\n<span class=\"o\">//</span> <span class=\"n\">copy</span> <span class=\"n\">of</span> <span class=\"n\">this</span> <span class=\"n\">software</span> <span class=\"ow\">and</span> <span class=\"n\">associated</span> <span class=\"n\">documentation</span> <span class=\"n\">files</span> <span class=\"p\">(</span><span class=\"n\">the</span> <span class=\"err\">“</span><span class=\"n\">Software</span><span class=\"err\">”</span><span class=\"p\">),</span>\\n<span class=\"o\">//</span> <span class=\"n\">to</span> <span class=\"n\">deal</span> <span class=\"ow\">in</span> <span class=\"n\">the</span> <span class=\"n\">Software</span> <span class=\"n\">without</span> <span class=\"n\">restriction</span><span class=\"p\">,</span> <span class=\"n\">including</span> <span class=\"n\">without</span> <span class=\"n\">limitation</span>\\n<span class=\"o\">//</span> <span class=\"n\">the</span> <span class=\"n\">rights</span> <span class=\"n\">to</span> <span class=\"n\">use</span><span class=\"p\">,</span> <span class=\"n\">copy</span><span class=\"p\">,</span> <span class=\"n\">modify</span><span class=\"p\">,</span> <span class=\"n\">merge</span><span class=\"p\">,</span> <span class=\"n\">publish</span><span class=\"p\">,</span> <span class=\"n\">distribute</span><span class=\"p\">,</span> <span class=\"n\">sublicense</span><span class=\"p\">,</span>\\n<span class=\"o\">//</span> <span class=\"ow\">and</span><span class=\"o\">/</span><span class=\"ow\">or</span> <span class=\"n\">sell</span> <span class=\"n\">copies</span> <span class=\"n\">of</span> <span class=\"n\">the</span> <span class=\"n\">Software</span><span class=\"p\">,</span> <span class=\"ow\">and</span> <span class=\"n\">to</span> <span class=\"n\">permit</span> <span class=\"n\">persons</span> <span class=\"n\">to</span> <span class=\"n\">whom</span> <span class=\"n\">the</span>\\n<span class=\"o\">//</span> <span class=\"n\">Software</span> <span class=\"ow\">is</span> <span class=\"n\">furnished</span> <span class=\"n\">to</span> <span class=\"n\">do</span> <span class=\"n\">so</span><span class=\"p\">,</span> <span class=\"n\">subject</span> <span class=\"n\">to</span> <span class=\"n\">the</span> <span class=\"n\">following</span> <span class=\"n\">conditions</span><span class=\"p\">:</span>\\n\\n<span class=\"o\">//</span> <span class=\"n\">The</span> <span class=\"n\">above</span> <span class=\"n\">copyright</span> <span class=\"n\">notice</span> <span class=\"ow\">and</span> <span class=\"n\">this</span> <span class=\"n\">permission</span> <span class=\"n\">notice</span> <span class=\"n\">shall</span> <span class=\"n\">be</span> <span class=\"n\">included</span> <span class=\"ow\">in</span>\\n<span class=\"o\">//</span> <span class=\"nb\">all</span> <span class=\"n\">copies</span> <span class=\"ow\">or</span> <span class=\"n\">substantial</span> <span class=\"n\">portions</span> <span class=\"n\">of</span> <span class=\"n\">the</span> <span class=\"n\">Software</span><span class=\"o\">.</span>\\n\\n<span class=\"o\">//</span> <span class=\"n\">THE</span> <span class=\"n\">SOFTWARE</span> <span class=\"n\">IS</span> <span class=\"n\">PROVIDED</span> <span class=\"err\">“</span><span class=\"n\">AS</span> <span class=\"n\">IS</span><span class=\"err\">”</span><span class=\"p\">,</span> <span class=\"n\">WITHOUT</span> <span class=\"n\">WARRANTY</span> <span class=\"n\">OF</span> <span class=\"n\">ANY</span> <span class=\"n\">KIND</span><span class=\"p\">,</span> <span class=\"n\">EXPRESS</span> <span class=\"n\">OR</span>\\n<span class=\"o\">//</span> <span class=\"n\">IMPLIED</span><span class=\"p\">,</span> <span class=\"n\">INCLUDING</span> <span class=\"n\">BUT</span> <span class=\"n\">NOT</span> <span class=\"n\">LIMITED</span> <span class=\"n\">TO</span> <span class=\"n\">THE</span> <span class=\"n\">WARRANTIES</span> <span class=\"n\">OF</span> <span class=\"n\">MERCHANTABILITY</span><span class=\"p\">,</span>\\n<span class=\"o\">//</span> <span class=\"n\">FITNESS</span> <span class=\"n\">FOR</span> <span class=\"n\">A</span> <span class=\"n\">PARTICULAR</span> <span class=\"n\">PURPOSE</span> <span class=\"n\">AND</span> <span class=\"n\">NONINFRINGEMENT</span><span class=\"o\">.</span> <span class=\"n\">IN</span> <span class=\"n\">NO</span> <span class=\"n\">EVENT</span> <span class=\"n\">SHALL</span> <span class=\"n\">THE</span>\\n<span class=\"o\">//</span> <span class=\"n\">AUTHORS</span> <span class=\"n\">OR</span> <span class=\"n\">COPYRIGHT</span> <span class=\"n\">HOLDERS</span> <span class=\"n\">BE</span> <span class=\"n\">LIABLE</span> <span class=\"n\">FOR</span> <span class=\"n\">ANY</span> <span class=\"n\">CLAIM</span><span class=\"p\">,</span> <span class=\"n\">DAMAGES</span> <span class=\"n\">OR</span> <span class=\"n\">OTHER</span>\\n<span class=\"o\">//</span> <span class=\"n\">LIABILITY</span><span class=\"p\">,</span> <span class=\"n\">WHETHER</span> <span class=\"n\">IN</span> <span class=\"n\">AN</span> <span class=\"n\">ACTION</span> <span class=\"n\">OF</span> <span class=\"n\">CONTRACT</span><span class=\"p\">,</span> <span class=\"n\">TORT</span> <span class=\"n\">OR</span> <span class=\"n\">OTHERWISE</span><span class=\"p\">,</span> <span class=\"n\">ARISING</span>\\n<span class=\"o\">//</span> <span class=\"n\">FROM</span><span class=\"p\">,</span> <span class=\"n\">OUT</span> <span class=\"n\">OF</span> <span class=\"n\">OR</span> <span class=\"n\">IN</span> <span class=\"n\">CONNECTION</span> <span class=\"n\">WITH</span> <span class=\"n\">THE</span> <span class=\"n\">SOFTWARE</span> <span class=\"n\">OR</span> <span class=\"n\">THE</span> <span class=\"n\">USE</span> <span class=\"n\">OR</span> <span class=\"n\">OTHER</span>\\n<span class=\"o\">//</span> <span class=\"n\">DEALINGS</span> <span class=\"n\">IN</span> <span class=\"n\">THE</span> <span class=\"n\">SOFTWARE</span><span class=\"o\">.</span>\\n\\n\\n<span class=\"c1\">#pragma once</span>\\n\\n<span class=\"c1\">#include &lt;stdint.h&gt;</span>\\n<span class=\"c1\">#include &lt;string&gt;</span>\\n<span class=\"c1\">#include &quot;my_header.hpp&quot;</span>\\n<span class=\"c1\">#include &lt;string.h&gt;</span>\\n<span class=\"c1\">#include &lt;cstdint&gt;</span>\\n<span class=\"c1\">#include &lt;cmath&gt;</span>\\n\\n\\n<span class=\"o\">//</span> <span class=\"n\">this</span> <span class=\"ow\">is</span> <span class=\"n\">a</span> <span class=\"k\">global</span> <span class=\"n\">comment</span>\\n\\n<span class=\"n\">namespace</span> <span class=\"n\">test</span> <span class=\"p\">{</span>\\n\\n<span class=\"n\">constexpr</span> <span class=\"n\">uint8_t</span> <span class=\"n\">VEC_T_MSG_SIZE</span> <span class=\"o\">=</span> <span class=\"mi\">12</span><span class=\"p\">;</span>\\n<span class=\"n\">constexpr</span> <span class=\"n\">uint8_t</span> <span class=\"n\">VEC_T_MSG_ID</span> <span class=\"o\">=</span> <span class=\"mi\">1</span><span class=\"p\">;</span>\\n\\n\\n<span class=\"n\">struct</span> <span class=\"n\">__attribute__</span><span class=\"p\">((</span><span class=\"n\">packed</span><span class=\"p\">))</span> <span class=\"n\">vec_t</span> <span class=\"p\">{</span>\\n\\n  <span class=\"nb\">float</span> <span class=\"n\">x</span> <span class=\"o\">=</span> <span class=\"mf\">0.0</span><span class=\"p\">;</span>\\n  <span class=\"nb\">float</span> <span class=\"n\">y</span> <span class=\"o\">=</span> <span class=\"mf\">0.0</span><span class=\"p\">;</span>\\n  <span class=\"nb\">float</span> <span class=\"n\">z</span> <span class=\"o\">=</span> <span class=\"mf\">0.0</span><span class=\"p\">;</span>\\n<span class=\"p\">};</span>\\n\\n\\n<span class=\"n\">inline</span>\\n<span class=\"nb\">float</span> <span class=\"n\">magnitude</span><span class=\"p\">(</span><span class=\"n\">const</span> <span class=\"n\">vec_t</span><span class=\"o\">&amp;</span> <span class=\"n\">v</span><span class=\"p\">)</span> <span class=\"p\">{</span>\\n    <span class=\"o\">//</span> <span class=\"n\">test</span> <span class=\"mi\">1</span>\\n    <span class=\"k\">return</span> <span class=\"n\">sqrt</span><span class=\"p\">(</span><span class=\"n\">v</span><span class=\"o\">.</span><span class=\"n\">x</span><span class=\"o\">*</span><span class=\"n\">v</span><span class=\"o\">.</span><span class=\"n\">x</span> <span class=\"o\">+</span> <span class=\"n\">v</span><span class=\"o\">.</span><span class=\"n\">y</span><span class=\"o\">*</span><span class=\"n\">v</span><span class=\"o\">.</span><span class=\"n\">y</span> <span class=\"o\">+</span> <span class=\"n\">v</span><span class=\"o\">.</span><span class=\"n\">z</span><span class=\"o\">*</span><span class=\"n\">v</span><span class=\"o\">.</span><span class=\"n\">z</span><span class=\"p\">);</span>\\n<span class=\"p\">}</span>\\n\\n<span class=\"n\">inline</span>\\n<span class=\"n\">vec_t</span> <span class=\"n\">normalize</span><span class=\"p\">(</span><span class=\"n\">const</span> <span class=\"n\">vec_t</span><span class=\"o\">&amp;</span> <span class=\"n\">v</span><span class=\"p\">)</span> <span class=\"p\">{</span>\\n    <span class=\"o\">//</span> <span class=\"n\">test</span> <span class=\"mi\">2</span>\\n    <span class=\"nb\">float</span> <span class=\"n\">tmp</span> <span class=\"o\">=</span> <span class=\"mi\">3</span><span class=\"o\">-</span><span class=\"mi\">4</span><span class=\"p\">;</span>\\n    <span class=\"nb\">float</span> <span class=\"n\">mag</span> <span class=\"o\">=</span> <span class=\"n\">magnitude</span><span class=\"p\">(</span><span class=\"n\">v</span><span class=\"p\">);</span>\\n    <span class=\"k\">return</span> <span class=\"n\">vec_t</span><span class=\"p\">(</span><span class=\"n\">v</span><span class=\"o\">.</span><span class=\"n\">x</span><span class=\"o\">/</span><span class=\"n\">mag</span><span class=\"p\">,</span> <span class=\"n\">v</span><span class=\"o\">.</span><span class=\"n\">y</span><span class=\"o\">/</span><span class=\"n\">mag</span><span class=\"p\">,</span> <span class=\"n\">v</span><span class=\"o\">.</span><span class=\"n\">z</span><span class=\"o\">/</span><span class=\"n\">mag</span><span class=\"p\">);</span>\\n<span class=\"p\">}</span>\\n\\n\\n<span class=\"n\">inline</span>\\n<span class=\"n\">message_t</span> <span class=\"n\">yivo_pack</span><span class=\"p\">(</span><span class=\"n\">const</span> <span class=\"n\">vec_t</span><span class=\"o\">&amp;</span> <span class=\"n\">msg</span><span class=\"p\">)</span> <span class=\"p\">{</span>\\n  <span class=\"n\">message_t</span> <span class=\"n\">msg</span> <span class=\"o\">=</span> <span class=\"n\">yivo</span><span class=\"o\">.</span><span class=\"n\">pack</span><span class=\"p\">(,</span> <span class=\"p\">(</span><span class=\"n\">uint8_t</span><span class=\"o\">*</span><span class=\"p\">)</span><span class=\"o\">&amp;</span><span class=\"n\">msg</span><span class=\"p\">,</span> <span class=\"p\">);</span>\\n  <span class=\"k\">return</span> <span class=\"n\">msg</span><span class=\"p\">;</span>\\n<span class=\"p\">}</span>\\n\\n\\n\\n<span class=\"p\">}</span> <span class=\"o\">//</span> <span class=\"n\">end</span> <span class=\"n\">namespace</span> <span class=\"n\">test</span>\\n</pre></div>\\n'"
      ]
     },
     "execution_count": 22,
     "metadata": {},
     "output_type": "execute_result"
    }
   ],
   "source": [
    "highlight(content, PythonLexer(), HtmlFormatter())"
   ]
  },
  {
   "cell_type": "code",
   "execution_count": null,
   "id": "1fa857f5-d363-4442-af22-d8c0fe74803a",
   "metadata": {},
   "outputs": [],
   "source": []
  }
 ],
 "metadata": {
  "kernelspec": {
   "display_name": "Python 3 (ipykernel)",
   "language": "python",
   "name": "python3"
  },
  "language_info": {
   "codemirror_mode": {
    "name": "ipython",
    "version": 3
   },
   "file_extension": ".py",
   "mimetype": "text/x-python",
   "name": "python",
   "nbconvert_exporter": "python",
   "pygments_lexer": "ipython3",
   "version": "3.11.6"
  }
 },
 "nbformat": 4,
 "nbformat_minor": 5
}
