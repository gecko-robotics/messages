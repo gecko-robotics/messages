{
 "cells": [
  {
   "cell_type": "code",
   "execution_count": 8,
   "id": "499860ca-54b4-43b7-b82a-8fafe158afe0",
   "metadata": {},
   "outputs": [],
   "source": [
    "from dataclasses import dataclass\n",
    "from dataclasses import field\n",
    "from struct import Struct\n",
    "from math import sqrt"
   ]
  },
  {
   "cell_type": "code",
   "execution_count": 95,
   "id": "41b2b84f-7935-4620-857f-cf0c217fd256",
   "metadata": {},
   "outputs": [],
   "source": [
    "@dataclass\n",
    "class vecf:\n",
    "    x: float\n",
    "    y: float\n",
    "    z: float\n",
    "    packer: Struct = field(init=False, repr=False, default=Struct( \"fff\" ))\n",
    "    def normalize(self):\n",
    "        return sqrt(self.x*self.x + self.y*self.y + self.z*self.z)\n",
    "\n",
    "    def pack(self):\n",
    "        return self.packer.pack(*self.to_list())\n",
    "\n",
    "    def unpack(self, pkt):\n",
    "        return self.packer.unpack(pkt)\n",
    "\n",
    "    def to_list(self):\n",
    "        ret = []\n",
    "        for a in self.__dict__.values():\n",
    "            if isinstance(a,float) or isinstance(a,int):\n",
    "                ret.append(a)\n",
    "            else:\n",
    "                for i in a.to_list():\n",
    "                    ret.append(i)\n",
    "        return ret"
   ]
  },
  {
   "cell_type": "code",
   "execution_count": 96,
   "id": "5542ffee-6568-4be6-b6a5-1ed06d9fea17",
   "metadata": {},
   "outputs": [],
   "source": [
    "@dataclass\n",
    "class imu:\n",
    "    id: int # something\n",
    "    accel: vecf\n",
    "    gyro: vecf\n",
    "    mag: vecf\n",
    "    pressure: float\n",
    "    temperature: float\n",
    "    timestamp: int\n",
    "    packer: Struct = field(init=False, repr=False, default=Struct( \"BfffffffffffI\" ))\n",
    "\n",
    "    def pack(self):\n",
    "        data = self.to_list()\n",
    "        print(data)\n",
    "        return self.packer.pack(*data)\n",
    "\n",
    "    def unpack(self, pkt):\n",
    "        return self.packer.unpack(pkt)\n",
    "\n",
    "    def to_list(self):\n",
    "        ret = []\n",
    "        for a in self.__dict__.values():\n",
    "            if isinstance(a,float) or isinstance(a,int):\n",
    "                ret.append(a)\n",
    "            else:\n",
    "                for i in a.to_list():\n",
    "                    ret.append(i)\n",
    "        return ret"
   ]
  },
  {
   "cell_type": "code",
   "execution_count": 99,
   "id": "6e860ce2-f698-43d6-ad30-c6686f291509",
   "metadata": {},
   "outputs": [
    {
     "name": "stdout",
     "output_type": "stream",
     "text": [
      "vecf(x=1, y=2, z=3)\n"
     ]
    },
    {
     "data": {
      "text/plain": [
       "[1, 2, 3]"
      ]
     },
     "execution_count": 99,
     "metadata": {},
     "output_type": "execute_result"
    }
   ],
   "source": [
    "v = vecf(1,2,3)\n",
    "print(v)\n",
    "\n",
    "import dataclasses\n",
    "f = dataclasses.fields(v)[0]\n",
    "l = []\n",
    "for a in v.__dict__.values():\n",
    "    if isinstance(a,float) or isinstance(a,int):\n",
    "        l.append(a)\n",
    "    else:\n",
    "        for i in a.to_list():\n",
    "            l.append(i)\n",
    "\n",
    "l\n",
    "# f.values()\n",
    "# for ff in f:\n",
    "    # print(ff)"
   ]
  },
  {
   "cell_type": "code",
   "execution_count": 104,
   "id": "c28d1237-cc1b-47af-8e08-dcccce811652",
   "metadata": {},
   "outputs": [
    {
     "data": {
      "text/plain": [
       "[1, 2, 3]"
      ]
     },
     "execution_count": 104,
     "metadata": {},
     "output_type": "execute_result"
    }
   ],
   "source": [
    "v.to_list()"
   ]
  },
  {
   "cell_type": "code",
   "execution_count": 100,
   "id": "1ff55c3e-c700-4d2d-a18b-0dd22c1dcaef",
   "metadata": {},
   "outputs": [
    {
     "name": "stdout",
     "output_type": "stream",
     "text": [
      "b'\\x00\\x00\\x80?\\x00\\x00\\x00@\\x00\\x00@@'\n"
     ]
    }
   ],
   "source": [
    "pkt = v.pack()\n",
    "print(pkt)"
   ]
  },
  {
   "cell_type": "code",
   "execution_count": 101,
   "id": "2e221ecc-1801-44f3-a13b-99dead25f3a2",
   "metadata": {},
   "outputs": [
    {
     "name": "stdout",
     "output_type": "stream",
     "text": [
      "vecf(x=1, y=2, z=3)\n"
     ]
    }
   ],
   "source": [
    "m = v.unpack(pkt)\n",
    "print(v)"
   ]
  },
  {
   "cell_type": "code",
   "execution_count": 102,
   "id": "9ad4dc05-d684-4900-a428-ee8311ab37e7",
   "metadata": {},
   "outputs": [
    {
     "name": "stdout",
     "output_type": "stream",
     "text": [
      "imu(id=1, accel=vecf(x=1, y=2, z=3), gyro=vecf(x=4, y=5, z=6), mag=vecf(x=7, y=8, z=9), pressure=1, temperature=2, timestamp=3)\n"
     ]
    }
   ],
   "source": [
    "i = imu(1,vecf(1,2,3),vecf(4,5,6),vecf(7,8,9),1,2,3)\n",
    "print(i)"
   ]
  },
  {
   "cell_type": "code",
   "execution_count": 103,
   "id": "e0e6be3c-0041-473e-8cf6-8283389e2f52",
   "metadata": {},
   "outputs": [
    {
     "name": "stdout",
     "output_type": "stream",
     "text": [
      "[1, 1, 2, 3, 4, 5, 6, 7, 8, 9, 1, 2, 3]\n",
      "b'\\x01\\x00\\x00\\x00\\x00\\x00\\x80?\\x00\\x00\\x00@\\x00\\x00@@\\x00\\x00\\x80@\\x00\\x00\\xa0@\\x00\\x00\\xc0@\\x00\\x00\\xe0@\\x00\\x00\\x00A\\x00\\x00\\x10A\\x00\\x00\\x80?\\x00\\x00\\x00@\\x03\\x00\\x00\\x00'\n"
     ]
    }
   ],
   "source": [
    "pkt = i.pack()\n",
    "print(pkt)"
   ]
  },
  {
   "cell_type": "code",
   "execution_count": null,
   "id": "dcfffe69-d082-45a1-9f4e-54c69e0acd1d",
   "metadata": {},
   "outputs": [],
   "source": []
  }
 ],
 "metadata": {
  "kernelspec": {
   "display_name": "Python 3 (ipykernel)",
   "language": "python",
   "name": "python3"
  },
  "language_info": {
   "codemirror_mode": {
    "name": "ipython",
    "version": 3
   },
   "file_extension": ".py",
   "mimetype": "text/x-python",
   "name": "python",
   "nbconvert_exporter": "python",
   "pygments_lexer": "ipython3",
   "version": "3.11.6"
  }
 },
 "nbformat": 4,
 "nbformat_minor": 5
}
