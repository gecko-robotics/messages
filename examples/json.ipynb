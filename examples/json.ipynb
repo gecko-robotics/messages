{
 "cells": [
  {
   "cell_type": "markdown",
   "id": "628848de-eca0-49d5-807c-1bc13e6fbdf4",
   "metadata": {},
   "source": [
    "# JSON Messages\n",
    "\n",
    "This feels more cumberson to write in json."
   ]
  },
  {
   "cell_type": "code",
   "execution_count": 1,
   "id": "dd9cdcf0-6fa5-46f2-af03-fe46c251543f",
   "metadata": {},
   "outputs": [],
   "source": [
    "# reload library\n",
    "%load_ext autoreload\n",
    "%autoreload 2"
   ]
  },
  {
   "cell_type": "code",
   "execution_count": 2,
   "id": "7491de01-e360-4bf4-bcff-294e39a8b1b2",
   "metadata": {},
   "outputs": [],
   "source": [
    "from gecko_messages.utils import *\n",
    "from gecko_messages.c_generator import *\n",
    "from gecko_messages.py_generator import *\n",
    "from gecko_messages.builtins import *\n",
    "from gecko_messages.files import read_folder"
   ]
  },
  {
   "cell_type": "code",
   "execution_count": 3,
   "id": "81aaddd2-17f3-483f-aebe-ceb9dba71c69",
   "metadata": {},
   "outputs": [],
   "source": [
    "import json\n",
    "from pprint import pprint\n",
    "from collections import namedtuple\n",
    "from types import SimpleNamespace"
   ]
  },
  {
   "cell_type": "code",
   "execution_count": 4,
   "id": "781b4251-dbcc-4fdb-83f3-2af2c028ec71",
   "metadata": {},
   "outputs": [],
   "source": [
    "from pygments import highlight\n",
    "from pygments.lexers import PythonLexer, CppLexer\n",
    "from pygments.formatters import HtmlFormatter\n",
    "from IPython.display import HTML, display"
   ]
  },
  {
   "cell_type": "code",
   "execution_count": 5,
   "id": "fd2c035a-a1f4-4a50-829e-548bbb626116",
   "metadata": {},
   "outputs": [],
   "source": [
    "def print_c(content):\n",
    "    display(HTML(highlight(content, CppLexer(), HtmlFormatter())))\n",
    "\n",
    "def print_python(content):\n",
    "    display(HTML(highlight(content, PythonLexer(), HtmlFormatter())))"
   ]
  },
  {
   "cell_type": "code",
   "execution_count": 16,
   "id": "0bba1586-b60a-4ab4-b710-5f492c109818",
   "metadata": {},
   "outputs": [],
   "source": [
    "# Type = namedtuple(\"Type\",\"size fmt\")\n",
    "# vec_t = VarInfo(\"vec_t\",    \"vec_t\",    12, \"3f\", True)\n",
    "vec_t = {\"type\": \"vec_t\", \"default\": [0,0,0]}\n",
    "Float = {\"type\": \"float\"}\n",
    "Uint32 = {\"type\": \"uint32\"}"
   ]
  },
  {
   "cell_type": "code",
   "execution_count": 10,
   "id": "53b8d9e9-1fe9-43ef-946f-7967a1104dca",
   "metadata": {},
   "outputs": [],
   "source": [
    "def var_fix_json(data):\n",
    "    \"\"\"\n",
    "    format variables in message properly from the TOML template\n",
    "    float-x => float x\n",
    "    float_3_x => float[3] x\n",
    "    \"\"\"\n",
    "    vars = []\n",
    "    key_remove = []\n",
    "    # m = re.compile(r'([a-zA-Z0-9_]+)')\n",
    "    for k,v in data[\"message\"].items():\n",
    "        # print(k, v)\n",
    "        try:\n",
    "            # there are some keys that are not variable types\n",
    "            # and we are just protecting them here\n",
    "            if k == \"id\":\n",
    "                continue\n",
    "            if k == \"name\":\n",
    "                continue\n",
    "\n",
    "            key_remove.append(k)\n",
    "            var = k\n",
    "            type = v[\"type\"]\n",
    "            array_size = v.get(\"len\", 0)\n",
    "            default = v.get(\"default\", 0)\n",
    "            var = Var(type,var,default,int(array_size))\n",
    "            vars.append(var)\n",
    "        except ValueError:\n",
    "            continue\n",
    "\n",
    "    # Add in new namedtuple Var array\n",
    "    data[\"message\"][\"vars\"] = vars\n",
    "\n",
    "    # remove old keys that were replaced above with namedtuple code\n",
    "    for k in key_remove:\n",
    "        data[\"message\"].pop(k)\n",
    "\n",
    "    return data"
   ]
  },
  {
   "cell_type": "code",
   "execution_count": 17,
   "id": "31cb281f-2c6f-47a9-8914-2c99e093797c",
   "metadata": {},
   "outputs": [
    {
     "name": "stdout",
     "output_type": "stream",
     "text": [
      "{'global': {'ids': {'imu_t': 10},\n",
      "            'license': 'hello',\n",
      "            'namespace': 'msgs',\n",
      "            'serialize': {'mavlink': False, 'yivo': False}},\n",
      " 'message': {'accels': {'default': [0, 0, 0], 'type': 'vec_t'},\n",
      "             'gyros': {'default': [0, 0, 0], 'type': 'vec_t'},\n",
      "             'mags': {'default': [0, 0, 0], 'type': 'vec_t'},\n",
      "             'name': 'imu_t',\n",
      "             'pressure': {'len': 6, 'type': 'float'},\n",
      "             'temperature': {'type': 'float'},\n",
      "             'time': {'type': 'uint32'}}}\n",
      "------------------------\n",
      "{'global': {'ids': {'imu_t': 10},\n",
      "            'license': 'hello',\n",
      "            'namespace': 'msgs',\n",
      "            'serialize': {'mavlink': False, 'yivo': False}},\n",
      " 'message': {'name': 'imu_t',\n",
      "             'vars': [Var(type='vec_t', var='accels', value=[0, 0, 0], array_size=0),\n",
      "                      Var(type='vec_t', var='gyros', value=[0, 0, 0], array_size=0),\n",
      "                      Var(type='vec_t', var='mags', value=[0, 0, 0], array_size=0),\n",
      "                      Var(type='float', var='pressure', value=0, array_size=6),\n",
      "                      Var(type='float', var='temperature', value=0, array_size=0),\n",
      "                      Var(type='uint32', var='time', value=0, array_size=0)]}}\n"
     ]
    }
   ],
   "source": [
    "global_json = {\n",
    "    \"global\": {\n",
    "        \"namespace\": \"msgs\",\n",
    "        \"license\": \"hello\",\n",
    "        \"serialize\": {\n",
    "            \"yivo\": False,\n",
    "            \"mavlink\": False\n",
    "        },\n",
    "        \"ids\": {\n",
    "            \"imu_t\": 10\n",
    "        }\n",
    "    }\n",
    "}\n",
    "\n",
    "msgjson = {\n",
    "    \"message\": {\n",
    "        \"accels\": vec_t,\n",
    "        \"gyros\": vec_t,\n",
    "        \"mags\": vec_t,\n",
    "        \"pressure\": {\n",
    "            \"type\": \"float\",\n",
    "            \"len\": 6\n",
    "        },\n",
    "        \"temperature\": Float,\n",
    "        \"time\": Uint32,\n",
    "        \"name\": \"imu_t\"\n",
    "    }\n",
    "}\n",
    "\n",
    "msgjson = msgjson | global_json\n",
    "\n",
    "pprint(msgjson)\n",
    "print(\"------------------------\")\n",
    "msg = var_fix_json(msgjson)\n",
    "pprint(msg)"
   ]
  },
  {
   "cell_type": "markdown",
   "id": "5d54b86c-f954-4eb3-9486-ecf195eb56e3",
   "metadata": {},
   "source": [
    "## C"
   ]
  },
  {
   "cell_type": "code",
   "execution_count": 18,
   "id": "a2307130-bad6-434e-b800-3df35c185c19",
   "metadata": {},
   "outputs": [
    {
     "data": {
      "text/html": [
       "<div class=\"highlight\"><pre><span></span><span class=\"c1\">//// Do not edit, this is autogenerated ////</span>\n",
       "<span class=\"c1\">// </span>\n",
       "<span class=\"c1\">// hello///////////////////////////////////////////////////////////</span>\n",
       "<span class=\"cp\">#pragma once</span>\n",
       "<span class=\"cp\">#include</span><span class=\"w\"> </span><span class=\"cpf\">&lt;cstdint&gt;</span>\n",
       "<span class=\"cp\">#include</span><span class=\"w\"> </span><span class=\"cpf\">&quot;vec_t.hpp&quot;</span>\n",
       "\n",
       "\n",
       "\n",
       "<span class=\"k\">namespace</span><span class=\"w\"> </span><span class=\"nn\">msgs</span><span class=\"w\"> </span><span class=\"p\">{</span>\n",
       "\n",
       "<span class=\"k\">constexpr</span><span class=\"w\"> </span><span class=\"kt\">uint8_t</span><span class=\"w\"> </span><span class=\"n\">MSG_SIZE_IMU_T</span><span class=\"w\"> </span><span class=\"o\">=</span><span class=\"w\"> </span><span class=\"mi\">68</span><span class=\"p\">;</span>\n",
       "<span class=\"k\">constexpr</span><span class=\"w\"> </span><span class=\"kt\">uint8_t</span><span class=\"w\"> </span><span class=\"n\">MSG_ID_IMU_T</span><span class=\"w\"> </span><span class=\"o\">=</span><span class=\"w\"> </span><span class=\"mi\">10</span><span class=\"p\">;</span>\n",
       "\n",
       "\n",
       "<span class=\"k\">struct</span><span class=\"w\"> </span><span class=\"nc\">__attribute__</span><span class=\"p\">((</span><span class=\"n\">packed</span><span class=\"p\">))</span><span class=\"w\"> </span><span class=\"n\">imu_t</span><span class=\"w\"> </span><span class=\"p\">{</span>\n",
       "\n",
       "<span class=\"w\">  </span><span class=\"n\">vec_t</span><span class=\"w\"> </span><span class=\"n\">accels</span><span class=\"p\">{</span><span class=\"mi\">0</span><span class=\"p\">,</span><span class=\"w\"> </span><span class=\"mi\">0</span><span class=\"p\">,</span><span class=\"w\"> </span><span class=\"mi\">0</span><span class=\"p\">};</span>\n",
       "<span class=\"w\">  </span><span class=\"n\">vec_t</span><span class=\"w\"> </span><span class=\"n\">gyros</span><span class=\"p\">{</span><span class=\"mi\">0</span><span class=\"p\">,</span><span class=\"w\"> </span><span class=\"mi\">0</span><span class=\"p\">,</span><span class=\"w\"> </span><span class=\"mi\">0</span><span class=\"p\">};</span>\n",
       "<span class=\"w\">  </span><span class=\"n\">vec_t</span><span class=\"w\"> </span><span class=\"n\">mags</span><span class=\"p\">{</span><span class=\"mi\">0</span><span class=\"p\">,</span><span class=\"w\"> </span><span class=\"mi\">0</span><span class=\"p\">,</span><span class=\"w\"> </span><span class=\"mi\">0</span><span class=\"p\">};</span>\n",
       "<span class=\"w\">  </span><span class=\"kt\">float</span><span class=\"p\">[</span><span class=\"mi\">6</span><span class=\"p\">]</span><span class=\"w\"> </span><span class=\"n\">pressure</span><span class=\"p\">{</span><span class=\"mi\">0</span><span class=\"p\">,</span><span class=\"w\"> </span><span class=\"mi\">0</span><span class=\"p\">,</span><span class=\"w\"> </span><span class=\"mi\">0</span><span class=\"p\">,</span><span class=\"w\"> </span><span class=\"mi\">0</span><span class=\"p\">,</span><span class=\"w\"> </span><span class=\"mi\">0</span><span class=\"p\">,</span><span class=\"w\"> </span><span class=\"mi\">0</span><span class=\"p\">};</span>\n",
       "<span class=\"w\">  </span><span class=\"kt\">float</span><span class=\"w\"> </span><span class=\"n\">temperature</span><span class=\"w\"> </span><span class=\"o\">=</span><span class=\"w\"> </span><span class=\"mi\">0</span><span class=\"p\">;</span>\n",
       "<span class=\"w\">  </span><span class=\"n\">uint32</span><span class=\"w\"> </span><span class=\"n\">time</span><span class=\"w\"> </span><span class=\"o\">=</span><span class=\"w\"> </span><span class=\"mi\">0</span><span class=\"p\">;</span>\n",
       "<span class=\"p\">};</span>\n",
       "\n",
       "\n",
       "\n",
       "\n",
       "\n",
       "\n",
       "\n",
       "<span class=\"p\">}</span><span class=\"w\"> </span><span class=\"c1\">// end namespace msgs</span>\n",
       "</pre></div>\n"
      ],
      "text/plain": [
       "<IPython.core.display.HTML object>"
      ]
     },
     "metadata": {},
     "output_type": "display_data"
    }
   ],
   "source": [
    "content = create_cpp(msg)\n",
    "# print(content)\n",
    "print_c(content)"
   ]
  },
  {
   "cell_type": "markdown",
   "id": "b06be3b5-f052-4918-96a0-33b2cb181bf8",
   "metadata": {},
   "source": [
    "## Python"
   ]
  },
  {
   "cell_type": "code",
   "execution_count": 19,
   "id": "da15cdb2-69fc-4bd9-b995-650f05596301",
   "metadata": {},
   "outputs": [
    {
     "data": {
      "text/html": [
       "<div class=\"highlight\"><pre><span></span><span class=\"c1\"># Do not edit, this is autogenerated</span>\n",
       "<span class=\"c1\">#</span>\n",
       "<span class=\"c1\"># hello###############################################################################</span>\n",
       "<span class=\"kn\">from</span> <span class=\"nn\">dataclasses</span> <span class=\"kn\">import</span> <span class=\"n\">dataclass</span>\n",
       "<span class=\"kn\">from</span> <span class=\"nn\">.base</span> <span class=\"kn\">import</span> <span class=\"n\">Base</span>\n",
       "<span class=\"kn\">from</span> <span class=\"nn\">.vec_t</span> <span class=\"kn\">import</span> <span class=\"n\">vec_t</span>\n",
       "<span class=\"nd\">@dataclass</span><span class=\"p\">(</span><span class=\"n\">frozen</span><span class=\"o\">=</span><span class=\"kc\">True</span><span class=\"p\">)</span>\n",
       "\n",
       "<span class=\"k\">class</span> <span class=\"nc\">imu_t</span><span class=\"p\">(</span><span class=\"n\">Base</span><span class=\"p\">):</span>\n",
       "    <span class=\"n\">accels</span><span class=\"p\">:</span> <span class=\"nb\">list</span><span class=\"p\">[</span><span class=\"n\">vec_t</span><span class=\"p\">]</span> <span class=\"o\">=</span> <span class=\"n\">field</span><span class=\"p\">(</span><span class=\"n\">default_factory</span><span class=\"o\">=</span><span class=\"p\">(</span><span class=\"k\">lambda</span><span class=\"p\">:[</span><span class=\"mi\">0</span><span class=\"p\">,</span> <span class=\"mi\">0</span><span class=\"p\">,</span> <span class=\"mi\">0</span><span class=\"p\">]))</span>\n",
       "    <span class=\"n\">gyros</span><span class=\"p\">:</span> <span class=\"nb\">list</span><span class=\"p\">[</span><span class=\"n\">vec_t</span><span class=\"p\">]</span> <span class=\"o\">=</span> <span class=\"n\">field</span><span class=\"p\">(</span><span class=\"n\">default_factory</span><span class=\"o\">=</span><span class=\"p\">(</span><span class=\"k\">lambda</span><span class=\"p\">:[</span><span class=\"mi\">0</span><span class=\"p\">,</span> <span class=\"mi\">0</span><span class=\"p\">,</span> <span class=\"mi\">0</span><span class=\"p\">]))</span>\n",
       "    <span class=\"n\">mags</span><span class=\"p\">:</span> <span class=\"nb\">list</span><span class=\"p\">[</span><span class=\"n\">vec_t</span><span class=\"p\">]</span> <span class=\"o\">=</span> <span class=\"n\">field</span><span class=\"p\">(</span><span class=\"n\">default_factory</span><span class=\"o\">=</span><span class=\"p\">(</span><span class=\"k\">lambda</span><span class=\"p\">:[</span><span class=\"mi\">0</span><span class=\"p\">,</span> <span class=\"mi\">0</span><span class=\"p\">,</span> <span class=\"mi\">0</span><span class=\"p\">]))</span>\n",
       "    <span class=\"n\">pressure</span><span class=\"p\">:</span> <span class=\"nb\">float</span> <span class=\"o\">=</span> <span class=\"mi\">0</span>\n",
       "    <span class=\"n\">temperature</span><span class=\"p\">:</span> <span class=\"nb\">float</span> <span class=\"o\">=</span> <span class=\"mi\">0</span>\n",
       "    <span class=\"n\">time</span><span class=\"p\">:</span> <span class=\"nb\">int</span> <span class=\"o\">=</span> <span class=\"mi\">0</span>\n",
       "\n",
       "    <span class=\"k\">def</span> <span class=\"nf\">__yivo__</span><span class=\"p\">(</span><span class=\"bp\">self</span><span class=\"p\">):</span>\n",
       "        <span class=\"c1\"># (fmt, size, id)</span>\n",
       "        <span class=\"k\">return</span> <span class=\"p\">(</span><span class=\"s2\">&quot;3f3f3f6ffI&quot;</span><span class=\"p\">,</span> <span class=\"mi\">68</span><span class=\"p\">,</span> <span class=\"mi\">10</span><span class=\"p\">)</span>\n",
       "</pre></div>\n"
      ],
      "text/plain": [
       "<IPython.core.display.HTML object>"
      ]
     },
     "metadata": {},
     "output_type": "display_data"
    }
   ],
   "source": [
    "content = create_python(msg)\n",
    "# print(content)\n",
    "print_python(content)"
   ]
  },
  {
   "cell_type": "code",
   "execution_count": null,
   "id": "d4d58445-e8ae-4a38-b95e-402b9bf986f5",
   "metadata": {},
   "outputs": [],
   "source": []
  },
  {
   "cell_type": "code",
   "execution_count": null,
   "id": "b85a7caa-78d9-44fe-aae6-48009bf112dc",
   "metadata": {},
   "outputs": [],
   "source": []
  }
 ],
 "metadata": {
  "kernelspec": {
   "display_name": "Python 3 (ipykernel)",
   "language": "python",
   "name": "python3"
  },
  "language_info": {
   "codemirror_mode": {
    "name": "ipython",
    "version": 3
   },
   "file_extension": ".py",
   "mimetype": "text/x-python",
   "name": "python",
   "nbconvert_exporter": "python",
   "pygments_lexer": "ipython3",
   "version": "3.11.8"
  }
 },
 "nbformat": 4,
 "nbformat_minor": 5
}
